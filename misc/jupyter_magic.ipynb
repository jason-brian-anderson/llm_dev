{
 "cells": [
  {
   "cell_type": "code",
   "execution_count": 5,
   "id": "0d98a431",
   "metadata": {},
   "outputs": [
    {
     "name": "stdout",
     "output_type": "stream",
     "text": [
      " I am container: 9924ffe0cada\n"
     ]
    }
   ],
   "source": [
    "%%bash\n",
    "echo -n \" I am container: \"\n",
    "hostname"
   ]
  },
  {
   "cell_type": "code",
   "execution_count": 3,
   "id": "5f60509f",
   "metadata": {
    "tags": []
   },
   "outputs": [
    {
     "name": "stdout",
     "output_type": "stream",
     "text": [
      "6.5.4\n"
     ]
    }
   ],
   "source": [
    "!jupyter notebook --version\n"
   ]
  },
  {
   "cell_type": "code",
   "execution_count": 1,
   "id": "c5139397-c989-43d9-9ad4-9d01e8eaa8f5",
   "metadata": {
    "tags": []
   },
   "outputs": [
    {
     "name": "stdout",
     "output_type": "stream",
     "text": [
      "total 0\n",
      "-rwxr-xr-x 1 root root    0 Apr 21 01:02 _workspace_code_search_net_python_1.0.0_80a244ab541c6b2125350b764dc5c2b715f65f00de7a56107a28915fac173a27.lock\n",
      "-rwxr-xr-x 1 root root    0 Apr 21 18:34 _workspace_espejelomar___csv_espejelomar--code_search_net_python_10000_examples-5253be7636f51e9c_0.0.0_6954658bab30a358235fa864b05cf819af0e179325c740e4bc853bcc7ec513e1.lock\n",
      "-rwxr-xr-x 1 root root    0 Apr 21 03:28 _workspace_squad_plain_text_1.0.0_d6ec3ceb99ca480ce37cdd35555d6cb2511d223b9150cce08a837ef62ffea453.lock\n",
      "drwxr-xr-x 1 root root 4096 Apr 21 03:07 code-search-net-tokenizer\n",
      "drwxr-xr-x 1 root root 4096 Apr 21 01:02 code_search_net\n",
      "drwxr-xr-x 1 root root 4096 Apr 21 03:28 downloads\n",
      "drwxr-xr-x 1 root root 4096 Apr 21 02:24 espejelomar___csv\n",
      "drwxr-xr-x 1 root root 4096 Apr 21 03:28 squad\n"
     ]
    }
   ],
   "source": [
    "!ls -l /workspace/.cache\n",
    "\n"
   ]
  },
  {
   "cell_type": "code",
   "execution_count": 11,
   "id": "1c5c833e-f459-4756-b897-0306447e391e",
   "metadata": {
    "tags": []
   },
   "outputs": [
    {
     "name": "stdout",
     "output_type": "stream",
     "text": [
      "JPY_SESSION_NAME=misc/a6765735-062f-4363-b36d-e4639077c268\n",
      "PYDEVD_USE_FRAME_EVAL=NO\n",
      "LD_LIBRARY_PATH=/usr/local/nvidia/lib:/usr/local/nvidia/lib64\n",
      "_=/usr/bin/env\n",
      "HOSTNAME=32ac88e1cb02\n",
      "NVIDIA_VISIBLE_DEVICES=0\n",
      "PAGER=cat\n",
      "FORCE_COLOR=1\n",
      "JPY_PARENT_PID=1\n",
      "PWD=/workspace/misc\n",
      "HOME=/root\n",
      "LC_CTYPE=C.UTF-8\n",
      "CLICOLOR=1\n",
      "PYTORCH_VERSION=v1.13.1\n",
      "CLICOLOR_FORCE=1\n",
      "TERM=xterm-color\n",
      "MPLBACKEND=module://matplotlib_inline.backend_inline\n",
      "NVIDIA_DRIVER_CAPABILITIES=compute,utility\n",
      "SHLVL=2\n",
      "PATH=/opt/conda/bin:/usr/local/sbin:/usr/local/bin:/usr/sbin:/usr/bin:/sbin:/bin\n",
      "JUPYTER_CONFIG_DIR=/workspace/.jupyter\n",
      "GIT_PAGER=cat\n"
     ]
    }
   ],
   "source": [
    "%%bash\n",
    "env"
   ]
  },
  {
   "cell_type": "code",
   "execution_count": null,
   "id": "7583c68c-0f75-4ce9-ab37-cffc6d67c3dd",
   "metadata": {},
   "outputs": [],
   "source": []
  }
 ],
 "metadata": {
  "kernelspec": {
   "display_name": "Python 3 (ipykernel)",
   "language": "python",
   "name": "python3"
  },
  "language_info": {
   "codemirror_mode": {
    "name": "ipython",
    "version": 3
   },
   "file_extension": ".py",
   "mimetype": "text/x-python",
   "name": "python",
   "nbconvert_exporter": "python",
   "pygments_lexer": "ipython3",
   "version": "3.10.8"
  }
 },
 "nbformat": 4,
 "nbformat_minor": 5
}
